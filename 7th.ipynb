{
 "cells": [
  {
   "cell_type": "code",
   "execution_count": 1,
   "metadata": {},
   "outputs": [],
   "source": [
    "import pandas as pd\n"
   ]
  },
  {
   "cell_type": "code",
   "execution_count": 3,
   "metadata": {},
   "outputs": [],
   "source": [
    "df=pd.read_excel('DATA.xlsx')\n",
    "\n",
    "df_final=pd.DataFrame(df[\"FOOD TYPE\"])\n",
    "df_final['ITEM']=df[\"ITEM\"].values\n",
    "\n",
    "\n"
   ]
  },
  {
   "cell_type": "code",
   "execution_count": 4,
   "metadata": {},
   "outputs": [
    {
     "name": "stdout",
     "output_type": "stream",
     "text": [
      "     FOOD TYPE                     ITEM  Frequency\n",
      "0    BREAKFAST     BREAKFAST ON THE RUN         34\n",
      "1    BREAKFAST          BREAKFAST TACOS         20\n",
      "2    BREAKFAST    CINNAMON FRENCH TOAST         22\n",
      "3    BREAKFAST            EGGS BENEDICT         37\n",
      "4    BREAKFAST      FAST FARE BREAKFAST        140\n",
      "..         ...                      ...        ...\n",
      "100   STARTERS             NACHOS SMALL         13\n",
      "101   STARTERS         PRIME RIB SLIDER         32\n",
      "102   STARTERS   SALT & PEPPER CALAMARI         18\n",
      "103   STARTERS  SALT & PEPPER PORK RIBS         19\n",
      "104   STARTERS     VIETNAM SHRIMP ROLLS          9\n",
      "\n",
      "[105 rows x 3 columns]\n"
     ]
    }
   ],
   "source": [
    "\n",
    "\n",
    "count = df_final.groupby(['FOOD TYPE','ITEM']).size().reset_index(name = 'Frequency')\n",
    "\n",
    "print(count)"
   ]
  },
  {
   "cell_type": "code",
   "execution_count": 5,
   "metadata": {},
   "outputs": [
    {
     "name": "stdout",
     "output_type": "stream",
     "text": [
      "FOOD TYPE\n",
      "BREAKFAST               140\n",
      "DESSERTS                  8\n",
      "ENTRÉE                   19\n",
      "JUNIOR MENU              23\n",
      "PIZZA                    17\n",
      "RICE BOWLS AND PASTA     29\n",
      "SALAD                    17\n",
      "SANDWHICHES              56\n",
      "SIDE / ADD ON            24\n",
      "SOUP                     31\n",
      "SPECIALS                 10\n",
      "STARTERS                 43\n",
      "Name: Frequency, dtype: int64\n"
     ]
    }
   ],
   "source": [
    "\n",
    "\n",
    "a=count.groupby(['FOOD TYPE'], sort=False)['Frequency'].max()\n",
    "print(a)"
   ]
  },
  {
   "cell_type": "code",
   "execution_count": 6,
   "metadata": {},
   "outputs": [
    {
     "name": "stdout",
     "output_type": "stream",
     "text": [
      "               FOOD TYPE           Most Frequent Item\n",
      "0              BREAKFAST          FAST FARE BREAKFAST\n",
      "1               DESSERTS        STICKY TOFFEE PUDDING\n",
      "2                 ENTRÉE         FISH & CHIPS 1 PIECE\n",
      "3            JUNIOR MENU                    JR. COMBO\n",
      "4                  PIZZA        SPICY ITALIAN FLATBRD\n",
      "5   RICE BOWLS AND PASTA           AHI TUNA POKE BOWL\n",
      "6                  SALAD       THAI PRAWN SALAD SMALL\n",
      "7            SANDWHICHES  WILLOW CLUB HOUSE SANDWHICH\n",
      "8          SIDE / ADD ON               SIDE OF TOAST \n",
      "9                   SOUP          CUP SOUP OF THE DAY\n",
      "10              SPECIALS          MEN'S NIGHT FEATURE\n",
      "11              STARTERS                CHICKEN WINGS\n"
     ]
    }
   ],
   "source": [
    "\n",
    "df1 = df_final.groupby('FOOD TYPE')['ITEM'].apply(lambda x: x.value_counts().index[0]).reset_index(name='Most Frequent Item')\n",
    "print (df1)"
   ]
  },
  {
   "cell_type": "code",
   "execution_count": null,
   "metadata": {},
   "outputs": [],
   "source": []
  }
 ],
 "metadata": {
  "kernelspec": {
   "display_name": "Python 3",
   "language": "python",
   "name": "python3"
  },
  "language_info": {
   "codemirror_mode": {
    "name": "ipython",
    "version": 3
   },
   "file_extension": ".py",
   "mimetype": "text/x-python",
   "name": "python",
   "nbconvert_exporter": "python",
   "pygments_lexer": "ipython3",
   "version": "3.7.4"
  }
 },
 "nbformat": 4,
 "nbformat_minor": 2
}

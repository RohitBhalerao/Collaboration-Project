{
 "cells": [
  {
   "cell_type": "code",
   "execution_count": 113,
   "metadata": {},
   "outputs": [],
   "source": [
    "import pandas as pd\n",
    "a = pd.read_excel('Data.xlsx')\n",
    "a\n",
    "import numpy as np"
   ]
  },
  {
   "cell_type": "code",
   "execution_count": 114,
   "metadata": {},
   "outputs": [
    {
     "data": {
      "text/html": [
       "<div>\n",
       "<style scoped>\n",
       "    .dataframe tbody tr th:only-of-type {\n",
       "        vertical-align: middle;\n",
       "    }\n",
       "\n",
       "    .dataframe tbody tr th {\n",
       "        vertical-align: top;\n",
       "    }\n",
       "\n",
       "    .dataframe thead th {\n",
       "        text-align: right;\n",
       "    }\n",
       "</style>\n",
       "<table border=\"1\" class=\"dataframe\">\n",
       "  <thead>\n",
       "    <tr style=\"text-align: right;\">\n",
       "      <th></th>\n",
       "      <th>DATE</th>\n",
       "      <th>DAY</th>\n",
       "      <th>TOTAL</th>\n",
       "      <th>WEEK NUMBER</th>\n",
       "    </tr>\n",
       "  </thead>\n",
       "  <tbody>\n",
       "    <tr>\n",
       "      <td>0</td>\n",
       "      <td>2020-06-19</td>\n",
       "      <td>FRIDAY</td>\n",
       "      <td>22</td>\n",
       "      <td>WEEK 1</td>\n",
       "    </tr>\n",
       "    <tr>\n",
       "      <td>1</td>\n",
       "      <td>2020-06-19</td>\n",
       "      <td>FRIDAY</td>\n",
       "      <td>10</td>\n",
       "      <td>WEEK 1</td>\n",
       "    </tr>\n",
       "    <tr>\n",
       "      <td>2</td>\n",
       "      <td>2020-06-19</td>\n",
       "      <td>FRIDAY</td>\n",
       "      <td>14</td>\n",
       "      <td>WEEK 1</td>\n",
       "    </tr>\n",
       "    <tr>\n",
       "      <td>3</td>\n",
       "      <td>2020-06-19</td>\n",
       "      <td>FRIDAY</td>\n",
       "      <td>18</td>\n",
       "      <td>WEEK 1</td>\n",
       "    </tr>\n",
       "    <tr>\n",
       "      <td>4</td>\n",
       "      <td>2020-06-19</td>\n",
       "      <td>FRIDAY</td>\n",
       "      <td>10</td>\n",
       "      <td>WEEK 1</td>\n",
       "    </tr>\n",
       "    <tr>\n",
       "      <td>...</td>\n",
       "      <td>...</td>\n",
       "      <td>...</td>\n",
       "      <td>...</td>\n",
       "      <td>...</td>\n",
       "    </tr>\n",
       "    <tr>\n",
       "      <td>1536</td>\n",
       "      <td>2020-07-22</td>\n",
       "      <td>WEDNESDAY</td>\n",
       "      <td>14</td>\n",
       "      <td>WEEK 5</td>\n",
       "    </tr>\n",
       "    <tr>\n",
       "      <td>1537</td>\n",
       "      <td>2020-07-22</td>\n",
       "      <td>WEDNESDAY</td>\n",
       "      <td>14</td>\n",
       "      <td>WEEK 5</td>\n",
       "    </tr>\n",
       "    <tr>\n",
       "      <td>1538</td>\n",
       "      <td>2020-07-22</td>\n",
       "      <td>WEDNESDAY</td>\n",
       "      <td>28</td>\n",
       "      <td>WEEK 5</td>\n",
       "    </tr>\n",
       "    <tr>\n",
       "      <td>1539</td>\n",
       "      <td>2020-07-22</td>\n",
       "      <td>WEDNESDAY</td>\n",
       "      <td>14</td>\n",
       "      <td>WEEK 5</td>\n",
       "    </tr>\n",
       "    <tr>\n",
       "      <td>1540</td>\n",
       "      <td>2020-07-22</td>\n",
       "      <td>WEDNESDAY</td>\n",
       "      <td>20</td>\n",
       "      <td>WEEK 5</td>\n",
       "    </tr>\n",
       "  </tbody>\n",
       "</table>\n",
       "<p>1541 rows × 4 columns</p>\n",
       "</div>"
      ],
      "text/plain": [
       "           DATE        DAY  TOTAL WEEK NUMBER\n",
       "0    2020-06-19     FRIDAY     22      WEEK 1\n",
       "1    2020-06-19     FRIDAY     10      WEEK 1\n",
       "2    2020-06-19     FRIDAY     14      WEEK 1\n",
       "3    2020-06-19     FRIDAY     18      WEEK 1\n",
       "4    2020-06-19     FRIDAY     10      WEEK 1\n",
       "...         ...        ...    ...         ...\n",
       "1536 2020-07-22  WEDNESDAY     14      WEEK 5\n",
       "1537 2020-07-22  WEDNESDAY     14      WEEK 5\n",
       "1538 2020-07-22  WEDNESDAY     28      WEEK 5\n",
       "1539 2020-07-22  WEDNESDAY     14      WEEK 5\n",
       "1540 2020-07-22  WEDNESDAY     20      WEEK 5\n",
       "\n",
       "[1541 rows x 4 columns]"
      ]
     },
     "execution_count": 114,
     "metadata": {},
     "output_type": "execute_result"
    }
   ],
   "source": [
    "d12 = a[[ 'DATE','DAY','TOTAL','WEEK NUMBER']]\n",
    "d12\n"
   ]
  },
  {
   "cell_type": "code",
   "execution_count": 129,
   "metadata": {},
   "outputs": [
    {
     "data": {
      "text/html": [
       "<div>\n",
       "<style scoped>\n",
       "    .dataframe tbody tr th:only-of-type {\n",
       "        vertical-align: middle;\n",
       "    }\n",
       "\n",
       "    .dataframe tbody tr th {\n",
       "        vertical-align: top;\n",
       "    }\n",
       "\n",
       "    .dataframe thead th {\n",
       "        text-align: right;\n",
       "    }\n",
       "</style>\n",
       "<table border=\"1\" class=\"dataframe\">\n",
       "  <thead>\n",
       "    <tr style=\"text-align: right;\">\n",
       "      <th></th>\n",
       "      <th>DAY</th>\n",
       "    </tr>\n",
       "    <tr>\n",
       "      <th>DATE</th>\n",
       "      <th></th>\n",
       "    </tr>\n",
       "  </thead>\n",
       "  <tbody>\n",
       "    <tr>\n",
       "      <td>2020-06-19</td>\n",
       "      <td>FRIDAY</td>\n",
       "    </tr>\n",
       "    <tr>\n",
       "      <td>2020-06-20</td>\n",
       "      <td>SATURDAY</td>\n",
       "    </tr>\n",
       "    <tr>\n",
       "      <td>2020-06-21</td>\n",
       "      <td>SUNDAY</td>\n",
       "    </tr>\n",
       "    <tr>\n",
       "      <td>2020-06-24</td>\n",
       "      <td>WEDNESDAY</td>\n",
       "    </tr>\n",
       "    <tr>\n",
       "      <td>2020-06-25</td>\n",
       "      <td>THURSDAY</td>\n",
       "    </tr>\n",
       "    <tr>\n",
       "      <td>2020-06-26</td>\n",
       "      <td>FRIDAY</td>\n",
       "    </tr>\n",
       "    <tr>\n",
       "      <td>2020-06-27</td>\n",
       "      <td>SATURDAY</td>\n",
       "    </tr>\n",
       "    <tr>\n",
       "      <td>2020-06-28</td>\n",
       "      <td>SUNDAY</td>\n",
       "    </tr>\n",
       "    <tr>\n",
       "      <td>2020-06-29</td>\n",
       "      <td>MONDAY</td>\n",
       "    </tr>\n",
       "    <tr>\n",
       "      <td>2020-07-01</td>\n",
       "      <td>WEDNESDAY</td>\n",
       "    </tr>\n",
       "    <tr>\n",
       "      <td>2020-07-02</td>\n",
       "      <td>THURSDAY</td>\n",
       "    </tr>\n",
       "    <tr>\n",
       "      <td>2020-07-03</td>\n",
       "      <td>FRIDAY</td>\n",
       "    </tr>\n",
       "    <tr>\n",
       "      <td>2020-07-04</td>\n",
       "      <td>SATURDAY</td>\n",
       "    </tr>\n",
       "    <tr>\n",
       "      <td>2020-07-05</td>\n",
       "      <td>SUNDAY</td>\n",
       "    </tr>\n",
       "    <tr>\n",
       "      <td>2020-07-06</td>\n",
       "      <td>MONDAY</td>\n",
       "    </tr>\n",
       "    <tr>\n",
       "      <td>2020-07-07</td>\n",
       "      <td>TUESDAY</td>\n",
       "    </tr>\n",
       "    <tr>\n",
       "      <td>2020-07-08</td>\n",
       "      <td>WEDNESDAY</td>\n",
       "    </tr>\n",
       "    <tr>\n",
       "      <td>2020-07-10</td>\n",
       "      <td>FRIDAY</td>\n",
       "    </tr>\n",
       "    <tr>\n",
       "      <td>2020-07-11</td>\n",
       "      <td>SATURDAY</td>\n",
       "    </tr>\n",
       "    <tr>\n",
       "      <td>2020-07-12</td>\n",
       "      <td>SUNDAY</td>\n",
       "    </tr>\n",
       "    <tr>\n",
       "      <td>2020-07-13</td>\n",
       "      <td>MONDAY</td>\n",
       "    </tr>\n",
       "    <tr>\n",
       "      <td>2020-07-14</td>\n",
       "      <td>TUESDAY</td>\n",
       "    </tr>\n",
       "    <tr>\n",
       "      <td>2020-07-15</td>\n",
       "      <td>WEDNESDAY</td>\n",
       "    </tr>\n",
       "    <tr>\n",
       "      <td>2020-07-17</td>\n",
       "      <td>FRIDAY</td>\n",
       "    </tr>\n",
       "    <tr>\n",
       "      <td>2020-07-18</td>\n",
       "      <td>SATURDAY</td>\n",
       "    </tr>\n",
       "    <tr>\n",
       "      <td>2020-07-19</td>\n",
       "      <td>SUNDAY</td>\n",
       "    </tr>\n",
       "    <tr>\n",
       "      <td>2020-07-20</td>\n",
       "      <td>MONDAY</td>\n",
       "    </tr>\n",
       "    <tr>\n",
       "      <td>2020-07-21</td>\n",
       "      <td>TUESDAY</td>\n",
       "    </tr>\n",
       "    <tr>\n",
       "      <td>2020-07-22</td>\n",
       "      <td>WEDNESDAY</td>\n",
       "    </tr>\n",
       "  </tbody>\n",
       "</table>\n",
       "</div>"
      ],
      "text/plain": [
       "                  DAY\n",
       "DATE                 \n",
       "2020-06-19     FRIDAY\n",
       "2020-06-20   SATURDAY\n",
       "2020-06-21     SUNDAY\n",
       "2020-06-24  WEDNESDAY\n",
       "2020-06-25   THURSDAY\n",
       "2020-06-26     FRIDAY\n",
       "2020-06-27   SATURDAY\n",
       "2020-06-28     SUNDAY\n",
       "2020-06-29     MONDAY\n",
       "2020-07-01  WEDNESDAY\n",
       "2020-07-02   THURSDAY\n",
       "2020-07-03     FRIDAY\n",
       "2020-07-04   SATURDAY\n",
       "2020-07-05     SUNDAY\n",
       "2020-07-06     MONDAY\n",
       "2020-07-07    TUESDAY\n",
       "2020-07-08  WEDNESDAY\n",
       "2020-07-10     FRIDAY\n",
       "2020-07-11   SATURDAY\n",
       "2020-07-12     SUNDAY\n",
       "2020-07-13     MONDAY\n",
       "2020-07-14    TUESDAY\n",
       "2020-07-15  WEDNESDAY\n",
       "2020-07-17     FRIDAY\n",
       "2020-07-18   SATURDAY\n",
       "2020-07-19     SUNDAY\n",
       "2020-07-20     MONDAY\n",
       "2020-07-21    TUESDAY\n",
       "2020-07-22  WEDNESDAY"
      ]
     },
     "execution_count": 129,
     "metadata": {},
     "output_type": "execute_result"
    }
   ],
   "source": [
    "def top(g):\n",
    "    return g['DAY'].value_counts().idxmax()\n",
    "topdf = d12.groupby('DATE').apply(top)\n",
    "topdf = topdf.to_frame()\n",
    "topdf.columns = ['DAY']\n",
    "topdf"
   ]
  },
  {
   "cell_type": "code",
   "execution_count": 116,
   "metadata": {},
   "outputs": [],
   "source": [
    "\n",
    "d13 = topdf['DAY'].value_counts()\n",
    "d13 = d13.to_frame()"
   ]
  },
  {
   "cell_type": "code",
   "execution_count": 117,
   "metadata": {},
   "outputs": [
    {
     "data": {
      "text/html": [
       "<div>\n",
       "<style scoped>\n",
       "    .dataframe tbody tr th:only-of-type {\n",
       "        vertical-align: middle;\n",
       "    }\n",
       "\n",
       "    .dataframe tbody tr th {\n",
       "        vertical-align: top;\n",
       "    }\n",
       "\n",
       "    .dataframe thead th {\n",
       "        text-align: right;\n",
       "    }\n",
       "</style>\n",
       "<table border=\"1\" class=\"dataframe\">\n",
       "  <thead>\n",
       "    <tr style=\"text-align: right;\">\n",
       "      <th></th>\n",
       "      <th>DAYS</th>\n",
       "    </tr>\n",
       "    <tr>\n",
       "      <th>DAY</th>\n",
       "      <th></th>\n",
       "    </tr>\n",
       "  </thead>\n",
       "  <tbody>\n",
       "    <tr>\n",
       "      <td>FRIDAY</td>\n",
       "      <td>5</td>\n",
       "    </tr>\n",
       "    <tr>\n",
       "      <td>WEDNESDAY</td>\n",
       "      <td>5</td>\n",
       "    </tr>\n",
       "    <tr>\n",
       "      <td>SATURDAY</td>\n",
       "      <td>5</td>\n",
       "    </tr>\n",
       "    <tr>\n",
       "      <td>SUNDAY</td>\n",
       "      <td>5</td>\n",
       "    </tr>\n",
       "    <tr>\n",
       "      <td>MONDAY</td>\n",
       "      <td>4</td>\n",
       "    </tr>\n",
       "    <tr>\n",
       "      <td>TUESDAY</td>\n",
       "      <td>3</td>\n",
       "    </tr>\n",
       "    <tr>\n",
       "      <td>THURSDAY</td>\n",
       "      <td>2</td>\n",
       "    </tr>\n",
       "  </tbody>\n",
       "</table>\n",
       "</div>"
      ],
      "text/plain": [
       "           DAYS\n",
       "DAY            \n",
       "FRIDAY        5\n",
       "WEDNESDAY     5\n",
       "SATURDAY      5\n",
       "SUNDAY        5\n",
       "MONDAY        4\n",
       "TUESDAY       3\n",
       "THURSDAY      2"
      ]
     },
     "execution_count": 117,
     "metadata": {},
     "output_type": "execute_result"
    }
   ],
   "source": [
    "\n",
    "d13.index.names = ['DAY']\n",
    "d13.columns = ['DAYS']\n",
    "d13"
   ]
  },
  {
   "cell_type": "code",
   "execution_count": 118,
   "metadata": {},
   "outputs": [
    {
     "data": {
      "text/html": [
       "<div>\n",
       "<style scoped>\n",
       "    .dataframe tbody tr th:only-of-type {\n",
       "        vertical-align: middle;\n",
       "    }\n",
       "\n",
       "    .dataframe tbody tr th {\n",
       "        vertical-align: top;\n",
       "    }\n",
       "\n",
       "    .dataframe thead th {\n",
       "        text-align: right;\n",
       "    }\n",
       "</style>\n",
       "<table border=\"1\" class=\"dataframe\">\n",
       "  <thead>\n",
       "    <tr style=\"text-align: right;\">\n",
       "      <th></th>\n",
       "      <th>sum</th>\n",
       "    </tr>\n",
       "    <tr>\n",
       "      <th>DAY</th>\n",
       "      <th></th>\n",
       "    </tr>\n",
       "  </thead>\n",
       "  <tbody>\n",
       "    <tr>\n",
       "      <td>FRIDAY</td>\n",
       "      <td>4731</td>\n",
       "    </tr>\n",
       "    <tr>\n",
       "      <td>MONDAY</td>\n",
       "      <td>2241</td>\n",
       "    </tr>\n",
       "    <tr>\n",
       "      <td>SATURDAY</td>\n",
       "      <td>3518</td>\n",
       "    </tr>\n",
       "    <tr>\n",
       "      <td>SUNDAY</td>\n",
       "      <td>3139</td>\n",
       "    </tr>\n",
       "    <tr>\n",
       "      <td>THURSDAY</td>\n",
       "      <td>1978</td>\n",
       "    </tr>\n",
       "    <tr>\n",
       "      <td>TUESDAY</td>\n",
       "      <td>3935</td>\n",
       "    </tr>\n",
       "    <tr>\n",
       "      <td>WEDNESDAY</td>\n",
       "      <td>3192</td>\n",
       "    </tr>\n",
       "  </tbody>\n",
       "</table>\n",
       "</div>"
      ],
      "text/plain": [
       "            sum\n",
       "DAY            \n",
       "FRIDAY     4731\n",
       "MONDAY     2241\n",
       "SATURDAY   3518\n",
       "SUNDAY     3139\n",
       "THURSDAY   1978\n",
       "TUESDAY    3935\n",
       "WEDNESDAY  3192"
      ]
     },
     "execution_count": 118,
     "metadata": {},
     "output_type": "execute_result"
    }
   ],
   "source": [
    "group4 = d12.groupby('DAY')\n",
    "d14 = group4['TOTAL'].agg([np.sum])\n",
    "d14\n"
   ]
  },
  {
   "cell_type": "code",
   "execution_count": 119,
   "metadata": {},
   "outputs": [
    {
     "data": {
      "text/html": [
       "<div>\n",
       "<style scoped>\n",
       "    .dataframe tbody tr th:only-of-type {\n",
       "        vertical-align: middle;\n",
       "    }\n",
       "\n",
       "    .dataframe tbody tr th {\n",
       "        vertical-align: top;\n",
       "    }\n",
       "\n",
       "    .dataframe thead th {\n",
       "        text-align: right;\n",
       "    }\n",
       "</style>\n",
       "<table border=\"1\" class=\"dataframe\">\n",
       "  <thead>\n",
       "    <tr style=\"text-align: right;\">\n",
       "      <th></th>\n",
       "      <th>sum</th>\n",
       "      <th>DAYS</th>\n",
       "    </tr>\n",
       "    <tr>\n",
       "      <th>DAY</th>\n",
       "      <th></th>\n",
       "      <th></th>\n",
       "    </tr>\n",
       "  </thead>\n",
       "  <tbody>\n",
       "    <tr>\n",
       "      <td>FRIDAY</td>\n",
       "      <td>4731</td>\n",
       "      <td>5</td>\n",
       "    </tr>\n",
       "    <tr>\n",
       "      <td>MONDAY</td>\n",
       "      <td>2241</td>\n",
       "      <td>4</td>\n",
       "    </tr>\n",
       "    <tr>\n",
       "      <td>SATURDAY</td>\n",
       "      <td>3518</td>\n",
       "      <td>5</td>\n",
       "    </tr>\n",
       "    <tr>\n",
       "      <td>SUNDAY</td>\n",
       "      <td>3139</td>\n",
       "      <td>5</td>\n",
       "    </tr>\n",
       "    <tr>\n",
       "      <td>THURSDAY</td>\n",
       "      <td>1978</td>\n",
       "      <td>2</td>\n",
       "    </tr>\n",
       "    <tr>\n",
       "      <td>TUESDAY</td>\n",
       "      <td>3935</td>\n",
       "      <td>3</td>\n",
       "    </tr>\n",
       "    <tr>\n",
       "      <td>WEDNESDAY</td>\n",
       "      <td>3192</td>\n",
       "      <td>5</td>\n",
       "    </tr>\n",
       "  </tbody>\n",
       "</table>\n",
       "</div>"
      ],
      "text/plain": [
       "            sum  DAYS\n",
       "DAY                  \n",
       "FRIDAY     4731     5\n",
       "MONDAY     2241     4\n",
       "SATURDAY   3518     5\n",
       "SUNDAY     3139     5\n",
       "THURSDAY   1978     2\n",
       "TUESDAY    3935     3\n",
       "WEDNESDAY  3192     5"
      ]
     },
     "execution_count": 119,
     "metadata": {},
     "output_type": "execute_result"
    }
   ],
   "source": [
    "e = pd.merge(d14, d, on='DAY', how='outer')\n",
    "e"
   ]
  },
  {
   "cell_type": "code",
   "execution_count": 120,
   "metadata": {},
   "outputs": [],
   "source": [
    "e['Average day of week'] = e['sum']/e['DAYS']"
   ]
  },
  {
   "cell_type": "code",
   "execution_count": 121,
   "metadata": {},
   "outputs": [
    {
     "data": {
      "text/html": [
       "<div>\n",
       "<style scoped>\n",
       "    .dataframe tbody tr th:only-of-type {\n",
       "        vertical-align: middle;\n",
       "    }\n",
       "\n",
       "    .dataframe tbody tr th {\n",
       "        vertical-align: top;\n",
       "    }\n",
       "\n",
       "    .dataframe thead th {\n",
       "        text-align: right;\n",
       "    }\n",
       "</style>\n",
       "<table border=\"1\" class=\"dataframe\">\n",
       "  <thead>\n",
       "    <tr style=\"text-align: right;\">\n",
       "      <th></th>\n",
       "      <th>sum</th>\n",
       "      <th>DAYS</th>\n",
       "      <th>Average day of week</th>\n",
       "    </tr>\n",
       "    <tr>\n",
       "      <th>DAY</th>\n",
       "      <th></th>\n",
       "      <th></th>\n",
       "      <th></th>\n",
       "    </tr>\n",
       "  </thead>\n",
       "  <tbody>\n",
       "    <tr>\n",
       "      <td>FRIDAY</td>\n",
       "      <td>4731</td>\n",
       "      <td>5</td>\n",
       "      <td>946.200000</td>\n",
       "    </tr>\n",
       "    <tr>\n",
       "      <td>MONDAY</td>\n",
       "      <td>2241</td>\n",
       "      <td>4</td>\n",
       "      <td>560.250000</td>\n",
       "    </tr>\n",
       "    <tr>\n",
       "      <td>SATURDAY</td>\n",
       "      <td>3518</td>\n",
       "      <td>5</td>\n",
       "      <td>703.600000</td>\n",
       "    </tr>\n",
       "    <tr>\n",
       "      <td>SUNDAY</td>\n",
       "      <td>3139</td>\n",
       "      <td>5</td>\n",
       "      <td>627.800000</td>\n",
       "    </tr>\n",
       "    <tr>\n",
       "      <td>THURSDAY</td>\n",
       "      <td>1978</td>\n",
       "      <td>2</td>\n",
       "      <td>989.000000</td>\n",
       "    </tr>\n",
       "    <tr>\n",
       "      <td>TUESDAY</td>\n",
       "      <td>3935</td>\n",
       "      <td>3</td>\n",
       "      <td>1311.666667</td>\n",
       "    </tr>\n",
       "    <tr>\n",
       "      <td>WEDNESDAY</td>\n",
       "      <td>3192</td>\n",
       "      <td>5</td>\n",
       "      <td>638.400000</td>\n",
       "    </tr>\n",
       "  </tbody>\n",
       "</table>\n",
       "</div>"
      ],
      "text/plain": [
       "            sum  DAYS  Average day of week\n",
       "DAY                                       \n",
       "FRIDAY     4731     5           946.200000\n",
       "MONDAY     2241     4           560.250000\n",
       "SATURDAY   3518     5           703.600000\n",
       "SUNDAY     3139     5           627.800000\n",
       "THURSDAY   1978     2           989.000000\n",
       "TUESDAY    3935     3          1311.666667\n",
       "WEDNESDAY  3192     5           638.400000"
      ]
     },
     "execution_count": 121,
     "metadata": {},
     "output_type": "execute_result"
    }
   ],
   "source": [
    "e"
   ]
  },
  {
   "cell_type": "code",
   "execution_count": 122,
   "metadata": {},
   "outputs": [],
   "source": [
    "e = e.sort_values('Average day of week', ascending = False)"
   ]
  },
  {
   "cell_type": "code",
   "execution_count": 130,
   "metadata": {},
   "outputs": [
    {
     "data": {
      "text/html": [
       "<div>\n",
       "<style scoped>\n",
       "    .dataframe tbody tr th:only-of-type {\n",
       "        vertical-align: middle;\n",
       "    }\n",
       "\n",
       "    .dataframe tbody tr th {\n",
       "        vertical-align: top;\n",
       "    }\n",
       "\n",
       "    .dataframe thead th {\n",
       "        text-align: right;\n",
       "    }\n",
       "</style>\n",
       "<table border=\"1\" class=\"dataframe\">\n",
       "  <thead>\n",
       "    <tr style=\"text-align: right;\">\n",
       "      <th></th>\n",
       "      <th>Total revenue for this day</th>\n",
       "      <th>Number of working days</th>\n",
       "      <th>Average revenue</th>\n",
       "    </tr>\n",
       "    <tr>\n",
       "      <th>DAY</th>\n",
       "      <th></th>\n",
       "      <th></th>\n",
       "      <th></th>\n",
       "    </tr>\n",
       "  </thead>\n",
       "  <tbody>\n",
       "    <tr>\n",
       "      <td>MONDAY</td>\n",
       "      <td>2241</td>\n",
       "      <td>4</td>\n",
       "      <td>560.250000</td>\n",
       "    </tr>\n",
       "    <tr>\n",
       "      <td>TUESDAY</td>\n",
       "      <td>3935</td>\n",
       "      <td>3</td>\n",
       "      <td>1311.666667</td>\n",
       "    </tr>\n",
       "    <tr>\n",
       "      <td>WEDNESDAY</td>\n",
       "      <td>3192</td>\n",
       "      <td>5</td>\n",
       "      <td>638.400000</td>\n",
       "    </tr>\n",
       "    <tr>\n",
       "      <td>THURSDAY</td>\n",
       "      <td>1978</td>\n",
       "      <td>2</td>\n",
       "      <td>989.000000</td>\n",
       "    </tr>\n",
       "    <tr>\n",
       "      <td>FRIDAY</td>\n",
       "      <td>4731</td>\n",
       "      <td>5</td>\n",
       "      <td>946.200000</td>\n",
       "    </tr>\n",
       "    <tr>\n",
       "      <td>SATURDAY</td>\n",
       "      <td>3518</td>\n",
       "      <td>5</td>\n",
       "      <td>703.600000</td>\n",
       "    </tr>\n",
       "    <tr>\n",
       "      <td>SUNDAY</td>\n",
       "      <td>3139</td>\n",
       "      <td>5</td>\n",
       "      <td>627.800000</td>\n",
       "    </tr>\n",
       "  </tbody>\n",
       "</table>\n",
       "</div>"
      ],
      "text/plain": [
       "           Total revenue for this day  Number of working days  Average revenue\n",
       "DAY                                                                           \n",
       "MONDAY                           2241                       4       560.250000\n",
       "TUESDAY                          3935                       3      1311.666667\n",
       "WEDNESDAY                        3192                       5       638.400000\n",
       "THURSDAY                         1978                       2       989.000000\n",
       "FRIDAY                           4731                       5       946.200000\n",
       "SATURDAY                         3518                       5       703.600000\n",
       "SUNDAY                           3139                       5       627.800000"
      ]
     },
     "execution_count": 130,
     "metadata": {},
     "output_type": "execute_result"
    }
   ],
   "source": [
    "e.columns = ['Total revenue for this day', 'Number of working days', 'Average revenue']\n",
    "e"
   ]
  },
  {
   "cell_type": "code",
   "execution_count": 132,
   "metadata": {},
   "outputs": [
    {
     "data": {
      "text/plain": [
       "4578.266666666667"
      ]
     },
     "execution_count": 132,
     "metadata": {},
     "output_type": "execute_result"
    }
   ],
   "source": [
    "e['Average revenue'][1] + e['Average revenue'][3] + e['Average revenue'][4:].sum() "
   ]
  },
  {
   "cell_type": "code",
   "execution_count": 124,
   "metadata": {},
   "outputs": [
    {
     "data": {
      "text/plain": [
       "\"\\nEven though Tuesdays and Thursdays see a good business than other days of the week, \\nthe restaurant was closed on two Tuesdays and 3 Thursdays in the 5 weeks. \\nSo, it is suggested to change this, and to keep the restaurant closed on either \\nMonday's or Wednesday's for Sanitization and Maintenance purpose. \\nThe average business of Tuesdays, Thursdays, Fridays and the weekends is 865$\\nThe average business of Wednesdays and Mondays is 582$.\\nThis action will add up the revenue by around 285$ every week, i.e. , 1140$ a month.\\nBusiness performance will improve by around 6%\\n\""
      ]
     },
     "execution_count": 124,
     "metadata": {},
     "output_type": "execute_result"
    }
   ],
   "source": [
    "'''\n",
    "Even though Tuesdays and Thursdays see a good business than other days of the week, \n",
    "the restaurant was closed on two Tuesdays and 3 Thursdays in the 5 weeks. \n",
    "So, it is suggested to change this, and to keep the restaurant closed on either \n",
    "Monday's or Wednesday's for Sanitization and Maintenance purpose. \n",
    "The average business of Tuesdays, Thursdays, Fridays and the weekends is 865$\n",
    "The average business of Wednesdays and Mondays is 582$.\n",
    "This action will add up the revenue by around 285$ every week, i.e. , 1140$ a month.\n",
    "Business performance will improve by around 6%\n",
    "'''"
   ]
  },
  {
   "cell_type": "code",
   "execution_count": 125,
   "metadata": {},
   "outputs": [
    {
     "data": {
      "text/html": [
       "<div>\n",
       "<style scoped>\n",
       "    .dataframe tbody tr th:only-of-type {\n",
       "        vertical-align: middle;\n",
       "    }\n",
       "\n",
       "    .dataframe tbody tr th {\n",
       "        vertical-align: top;\n",
       "    }\n",
       "\n",
       "    .dataframe thead th {\n",
       "        text-align: right;\n",
       "    }\n",
       "</style>\n",
       "<table border=\"1\" class=\"dataframe\">\n",
       "  <thead>\n",
       "    <tr style=\"text-align: right;\">\n",
       "      <th></th>\n",
       "      <th>sum</th>\n",
       "      <th>DAYS</th>\n",
       "      <th>Average day of week</th>\n",
       "    </tr>\n",
       "    <tr>\n",
       "      <th>DAY</th>\n",
       "      <th></th>\n",
       "      <th></th>\n",
       "      <th></th>\n",
       "    </tr>\n",
       "  </thead>\n",
       "  <tbody>\n",
       "    <tr>\n",
       "      <td>MONDAY</td>\n",
       "      <td>2241</td>\n",
       "      <td>4</td>\n",
       "      <td>560.250000</td>\n",
       "    </tr>\n",
       "    <tr>\n",
       "      <td>TUESDAY</td>\n",
       "      <td>3935</td>\n",
       "      <td>3</td>\n",
       "      <td>1311.666667</td>\n",
       "    </tr>\n",
       "    <tr>\n",
       "      <td>WEDNESDAY</td>\n",
       "      <td>3192</td>\n",
       "      <td>5</td>\n",
       "      <td>638.400000</td>\n",
       "    </tr>\n",
       "    <tr>\n",
       "      <td>THURSDAY</td>\n",
       "      <td>1978</td>\n",
       "      <td>2</td>\n",
       "      <td>989.000000</td>\n",
       "    </tr>\n",
       "    <tr>\n",
       "      <td>FRIDAY</td>\n",
       "      <td>4731</td>\n",
       "      <td>5</td>\n",
       "      <td>946.200000</td>\n",
       "    </tr>\n",
       "    <tr>\n",
       "      <td>SATURDAY</td>\n",
       "      <td>3518</td>\n",
       "      <td>5</td>\n",
       "      <td>703.600000</td>\n",
       "    </tr>\n",
       "    <tr>\n",
       "      <td>SUNDAY</td>\n",
       "      <td>3139</td>\n",
       "      <td>5</td>\n",
       "      <td>627.800000</td>\n",
       "    </tr>\n",
       "  </tbody>\n",
       "</table>\n",
       "</div>"
      ],
      "text/plain": [
       "            sum  DAYS  Average day of week\n",
       "DAY                                       \n",
       "MONDAY     2241     4           560.250000\n",
       "TUESDAY    3935     3          1311.666667\n",
       "WEDNESDAY  3192     5           638.400000\n",
       "THURSDAY   1978     2           989.000000\n",
       "FRIDAY     4731     5           946.200000\n",
       "SATURDAY   3518     5           703.600000\n",
       "SUNDAY     3139     5           627.800000"
      ]
     },
     "execution_count": 125,
     "metadata": {},
     "output_type": "execute_result"
    }
   ],
   "source": [
    "e = e.loc[['MONDAY', 'TUESDAY', 'WEDNESDAY', 'THURSDAY', 'FRIDAY', 'SATURDAY', 'SUNDAY'], :]\n",
    "e"
   ]
  },
  {
   "cell_type": "code",
   "execution_count": 126,
   "metadata": {},
   "outputs": [
    {
     "data": {
      "image/png": "[encoded data removed]",
      "text/plain": [
       "<Figure size 1152x648 with 1 Axes>"
      ]
     },
     "metadata": {
      "needs_background": "light"
     },
     "output_type": "display_data"
    }
   ],
   "source": [
    "from matplotlib import pyplot as plt \n",
    "  \n",
    "# Read CSV into pandas \n",
    "\n",
    "Day = e.index \n",
    "Average = e['Average day of week'] \n",
    "  \n",
    "# Figure Size \n",
    "fig, ax = plt.subplots(figsize =(16, 9)) \n",
    "  \n",
    "# Horizontal Bar Plot \n",
    "ax.barh(Day, Average) \n",
    "  \n",
    "# Remove axes splines \n",
    "for s in ['top', 'bottom', 'left', 'right']: \n",
    "    ax.spines[s].set_visible(False) \n",
    "  \n",
    "# Remove x, y Ticks \n",
    "ax.xaxis.set_ticks_position('none') \n",
    "ax.yaxis.set_ticks_position('none') \n",
    "  \n",
    "# Add padding between axes and labels \n",
    "ax.xaxis.set_tick_params(pad = 5) \n",
    "ax.yaxis.set_tick_params(pad = 10) \n",
    "  \n",
    "# Add x, y gridlines \n",
    "ax.grid(b = True, color ='grey', \n",
    "        linestyle ='-.', linewidth = 0.5, \n",
    "        alpha = 0.2) \n",
    "  \n",
    "# Show top values  \n",
    "ax.invert_yaxis() \n",
    "  \n",
    "# Add annotation to bars \n",
    "for i in ax.patches: \n",
    "    plt.text(i.get_width()+0.2, i.get_y()+0.5,  \n",
    "             str(round((i.get_width()), 2)), \n",
    "             fontsize = 10, fontweight ='bold', \n",
    "             color ='grey') \n",
    "  \n",
    "# Add Plot Title \n",
    "ax.set_title('Revenue by days of the week', \n",
    "             loc ='left', ) \n",
    "  \n",
    "# Add Text watermark \n",
    "fig.text(0.9, 0.15, 'Rohit Bhalerao', fontsize = 12, \n",
    "         color ='grey', ha ='right', va ='bottom', \n",
    "         alpha = 0.7) \n",
    "  \n",
    "# Show Plot \n",
    "plt.show() "
   ]
  },
  {
   "cell_type": "code",
   "execution_count": null,
   "metadata": {},
   "outputs": [],
   "source": []
  },
  {
   "cell_type": "code",
   "execution_count": null,
   "metadata": {},
   "outputs": [],
   "source": [
    "st.markdown(\"Even though Tuesdays and Thursdays see a good business than other days of the week, \n",
    "            the restaurant was closed on 2 Tuesdays and 3 Thursdays in the 5 weeks. So, it is suggested to change \n",
    "            this, and to keep the restaurant closed on either Monday's or Wednesday's for Sanitization and Maintenance purpose. \n",
    "            The average business of Tuesdays, Thursdays, Fridays and the weekends is %i $. \n",
    "            The average business of Wednesdays and Mondays is %i $.\n",
    "            This action will add up the revenue by around %i $ every week, i.e. , %i $ a month. \n",
    "            Business performance will improve by around %i %\" %(a1, a2 , a3 , a3 * 4 , a5))\n"
   ]
  },
  {
   "cell_type": "code",
   "execution_count": 160,
   "metadata": {},
   "outputs": [
    {
     "data": {
      "text/plain": [
       "915.6533333333334"
      ]
     },
     "execution_count": 160,
     "metadata": {},
     "output_type": "execute_result"
    }
   ],
   "source": [
    "a1 = (e['Average revenue'][1] + e['Average revenue'][3] + e['Average revenue'][4:].sum())/5\n",
    "a1"
   ]
  },
  {
   "cell_type": "code",
   "execution_count": 161,
   "metadata": {},
   "outputs": [
    {
     "data": {
      "text/plain": [
       "599.325"
      ]
     },
     "execution_count": 161,
     "metadata": {},
     "output_type": "execute_result"
    }
   ],
   "source": [
    "a2 = (e['Average revenue'][0] + e['Average revenue'][2])/2 \n",
    "a2"
   ]
  },
  {
   "cell_type": "code",
   "execution_count": 162,
   "metadata": {},
   "outputs": [],
   "source": [
    "a3 = a1 - a2\n"
   ]
  },
  {
   "cell_type": "code",
   "execution_count": 163,
   "metadata": {},
   "outputs": [
    {
     "data": {
      "text/plain": [
       "316.3283333333334"
      ]
     },
     "execution_count": 163,
     "metadata": {},
     "output_type": "execute_result"
    }
   ],
   "source": [
    "a3"
   ]
  },
  {
   "cell_type": "code",
   "execution_count": 164,
   "metadata": {},
   "outputs": [
    {
     "data": {
      "text/plain": [
       "1265.3133333333335"
      ]
     },
     "execution_count": 164,
     "metadata": {},
     "output_type": "execute_result"
    }
   ],
   "source": [
    "a3 * 4"
   ]
  },
  {
   "cell_type": "code",
   "execution_count": 165,
   "metadata": {},
   "outputs": [],
   "source": [
    "a4 = a['TOTAL'].sum()"
   ]
  },
  {
   "cell_type": "code",
   "execution_count": 166,
   "metadata": {},
   "outputs": [],
   "source": [
    "a5 = (a3 * 4) / (a['TOTAL'].sum()) * 100"
   ]
  },
  {
   "cell_type": "code",
   "execution_count": 167,
   "metadata": {},
   "outputs": [
    {
     "data": {
      "text/plain": [
       "5.5657312102284395"
      ]
     },
     "execution_count": 167,
     "metadata": {},
     "output_type": "execute_result"
    }
   ],
   "source": [
    "a5"
   ]
  },
  {
   "cell_type": "code",
   "execution_count": 168,
   "metadata": {},
   "outputs": [
    {
     "data": {
      "text/plain": [
       "numpy.float64"
      ]
     },
     "execution_count": 168,
     "metadata": {},
     "output_type": "execute_result"
    }
   ],
   "source": [
    "type(a1)"
   ]
  },
  {
   "cell_type": "code",
   "execution_count": 169,
   "metadata": {},
   "outputs": [
    {
     "data": {
      "text/plain": [
       "numpy.float64"
      ]
     },
     "execution_count": 169,
     "metadata": {},
     "output_type": "execute_result"
    }
   ],
   "source": [
    "type(a2)"
   ]
  },
  {
   "cell_type": "code",
   "execution_count": 170,
   "metadata": {},
   "outputs": [
    {
     "data": {
      "text/plain": [
       "numpy.float64"
      ]
     },
     "execution_count": 170,
     "metadata": {},
     "output_type": "execute_result"
    }
   ],
   "source": [
    "type(a3)"
   ]
  },
  {
   "cell_type": "code",
   "execution_count": 171,
   "metadata": {},
   "outputs": [
    {
     "data": {
      "text/plain": [
       "numpy.int64"
      ]
     },
     "execution_count": 171,
     "metadata": {},
     "output_type": "execute_result"
    }
   ],
   "source": [
    "type(a4)"
   ]
  },
  {
   "cell_type": "code",
   "execution_count": 174,
   "metadata": {},
   "outputs": [
    {
     "data": {
      "text/plain": [
       "numpy.float64"
      ]
     },
     "execution_count": 174,
     "metadata": {},
     "output_type": "execute_result"
    }
   ],
   "source": [
    "type(a5)"
   ]
  },
  {
   "cell_type": "code",
   "execution_count": null,
   "metadata": {},
   "outputs": [],
   "source": []
  }
 ],
 "metadata": {
  "kernelspec": {
   "display_name": "Python 3",
   "language": "python",
   "name": "python3"
  },
  "language_info": {
   "codemirror_mode": {
    "name": "ipython",
    "version": 3
   },
   "file_extension": ".py",
   "mimetype": "text/x-python",
   "name": "python",
   "nbconvert_exporter": "python",
   "pygments_lexer": "ipython3",
   "version": "3.7.4"
  }
 },
 "nbformat": 4,
 "nbformat_minor": 2
}
